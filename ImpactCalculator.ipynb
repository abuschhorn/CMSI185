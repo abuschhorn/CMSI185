{
 "cells": [
  {
   "cell_type": "markdown",
   "metadata": {},
   "source": [
    "# Python Impact Calculator\n",
    "\n",
    "## Background\n",
    "![Almond Farm](https://external-content.duckduckgo.com/iu/?u=http%3A%2F%2Fwww.slate.com%2Fcontent%2Fdam%2Fslate%2Farticles%2Ftechnology%2Ffuture_tense%2F2014%2F05%2F140513_FUT_row.jpg.CROP.original-original.jpg&f=1&nofb=1)\n",
    "\n",
    "We all know our environment is being rapidly degraded due to human activity. It can be overwhelming and confusing to try to optimize our own day-to-day habits to be more environmentally responsible. In California, we face droughts. How much does it matter if people take shorter showers compared cutting back on other water-intensive consumptions, such as almonds? Let us investigate.\n",
    "\n",
    "## Your Task\n",
    "\n",
    "For this project, you'll write a Python program to do unit conversion—to provide the translation of a quantity specified by a certain amount in one source unit and a destination unit. We *convert from* the source unit and *convert to* the destination unit. Often this implies converting measurements like miles to kilometers or cups to liters. To make things more interesting, the units for this assignment will be measurements of activities with some environmental impact, e.g., minutes of showering as a unit for water usage. The calculations required are the same.\n",
    "\n",
    "In other words, your program should be able to answer questions along the lines of: \"How much water is involved in a 10-minute shower compared with almond milk production?\" (answer: \"10 minutes of showering involves the same amount of water as 5.04 cups of almond milk\") In this example, the unit conversion is _minutes of showering_ to _cups of almond milk_.\n",
    "\n",
    "Use the `ipywidgets` below for input. The numeric input box constrains the user input for the amount to convert to be in the form of a float, and the dropdown menus should be populated with your options for a source unit (activities) to convert from, and a destination unit to convert to (same activities). **You will need to choose two categories in terms of environmental impact, e.g., water usage, energy usage, CO$_{2}$ emissions, volume of waste, etc. and 3 or more corresponding activities as units for each category.**\n",
    "\n",
    "## Requirements\n",
    "\n",
    "- 1) **Welcome text for your program** In a markdown cell above the provided widgets: add a friendly welcome message, instructions, and a brief background paragraph on each of your chosen categories and activities. This should include a list of the supported categories and units within that category, as well as a heads up that your program cannot convert between categories.\n",
    "\n",
    "- 2) Without your clever intervention, the input widets will allow `convertFrom.value` and `convertTo.value` to be from mismatching categories (e.g., convert water usage to CO$_{2}$ emissions). Your program must **check if the categories match** if so, great, your program can move on with its calculations. Otherwise, display a **friendly**, helpful message to the user with instructions on how to try again. _Hint:_ Separate your concerns.\n",
    "\n",
    "    - `convertFrom.value` and `convertTo.value` are the variable names assigned to the values from the input widgets. They are only evaluated when the code cell is executed initially, not while the cell is running. You may include instructions in your message to the user to gracefully exit (i.e., not by pressing stop), double-check that their units match, and press the `Calculate` button again.\n",
    "    - The `Calculate` button simply calls the `convert` function.\n",
    "    - Your program should _not_ result in any errors or require the user to run or stop any code cells. You may assume the code cells defining functions and data have been executed by the time a user interacts with your program.\n",
    "\n",
    "- 3) Write your program to **calculate the unit conversion**. \n",
    "    - You will need to populated the dropdown menu widgets with your chosen activities for each category. In the first code cell, `convertFrom = ...` and `convertFrom = ...` create these dropdown menus. They each have a property called `options = []`. Populate the options list with strings of a few words describing your activities. _Hint: These strings can be used as keys later..._\n",
    "    - To get the values of the input widgets to use in your code, you can refer to the variable names `value.value`, `convertFrom.value`, and `convertTo.value` because the widgets are named value, convertFrom, and convertTo respectively and they have a property called value that is updated each time a user interacts with that widget. Again, the value is update in real time, but a code cell that is currently running while the widget is updated will not register the update. \n",
    "    - I highly recommend designing a game plan for how you will write your code before you start programming. See Potential Approaches below for more advice.\n",
    "\n",
    "## How to find the conversion values\n",
    "\n",
    "First you will need to decide on a category for comparison, e.g., water usage. Choose 3 or more corresponding activities, e.g., taking a shower, producing almond milk, etc. Then choose a unit of measurement to use as a standard unit for comparing the activities. Going along with our water usage example, let's say gallons. Next you would do some research to determine how many gallons is involved with each of your activities and a corresponding unit that makes sense for each of those. Let's say we want to compare water used per minutes of showering to cups of almond milk. In this example, you would find sources online indicating how many gallons of water it takes to run an average shower for one minute, how many gallons of water it takes to produce a cup of almond milk, and so on for each of your activities. List your sources and reference them in your introductory text, for example: growing almonds requires a lot of water [1].\n",
    "\n",
    "Feel free to get this data any way you wish. You can find articles online to get estimates for how many source units are in a destination unit and build structures into your program to store these answers. If you find a variety of conflicting numbers, choose the one that seems most reliable to you or calculate an average. Either way, include links to all of your sources at the end of the notebook.\n",
    "\n",
    "## Potential Approaches\n",
    "\n",
    "How should you store all of the multiplying factors between activities? There's the hard way and the easy way to think about it. The particular Python data type you should use is something you should consider on your own.\n",
    "\n",
    "### The Hard Way\n",
    "\n",
    "The hard way is to build an internal two-dimensional table structure of the conversion of every unit to every other unit for every category. This is really painful. Imagine how many translators the United Nations would need if they had 1,000 people speaking different languages and they used this model...a million people!\n",
    "\n",
    "### The Easy Way\n",
    "\n",
    "The easy way is to find a common, base unit (e.g., 1 gallon for water usage) and then store the constant (e.g., 2.1 for minutes of showering based on the average flow rate) used to convert from the base unit to that unit. To convert from two units in the same category (neither of which are the base unit), you simply convert from your convertFrom unit to the base unit, then from that to the convertTo unit. Using the previous analogy you'd only need to hire 1,000 translators at the UN – as long as each could translate to and from their language to a common language, like one of the click languages.\n",
    "\n",
    "### Checklist\n",
    "\n",
    "Make sure your program accounts for all of the following to get full credit.\n",
    "\n",
    "- Use of functions—your program must be broken down into one or more functions—it cannot be one big long script.\n",
    "    - NOTE: One of these functions MUST be named `convert` and use print statements to display results. Otherwise the `Calculate` button will give you an error.\n",
    "- Each function has a docstring that summarizes its purpose and provides a description of its inputs and outputs.\n",
    "- All functions and variables have meaningful names.\n",
    "- Do not use excessive `if` statements where you could leverage a dictionary.\n",
    "- Preserved output showing the program produces correct conversions among all the units of eacy category, i.e., press `Calculate` multiple times with different input values and don't restart the kernel before saving and submitting your notebook.\n",
    "- **All of the features listed in the Requirements section above.**"
   ]
  },
  {
   "cell_type": "code",
   "execution_count": 1,
   "metadata": {
    "scrolled": true
   },
   "outputs": [],
   "source": [
    "# First, run this cell to set up input widgets\n",
    "# There won't be any output yet\n",
    "\n",
    "import ipywidgets as widgets\n",
    "\n",
    "waterActivities=['cups of cow milk', 'cups of soy milk', 'cups of oat milk', 'toilet flushes', 'loads of laundry']\n",
    "emissionsActivities=['ounces of beef', 'miles traveled in car','tons of coal']\n",
    "category = widgets.Dropdown(\n",
    "    options=['water usage', 'CO2 emissions'],\n",
    "    value='water usage',\n",
    "    desciption='',\n",
    "    disabled=False,\n",
    ")\n",
    "value = widgets.FloatText(\n",
    "    value=10.0,\n",
    "    description='',\n",
    "    disabled=False\n",
    ")\n",
    "\n",
    "convertFrom = widgets.Dropdown(\n",
    "    options=['cups of cow milk', 'cups of soy milk', 'cups of oat milk', 'toilet flushes', 'loads of laundry', 'ounces of beef', 'miles traveled in car','tons of coal'], # list of your activities as strings\n",
    "    value='cups of cow milk', # one of your activities to be the default option\n",
    "    description='',\n",
    "    disabled=False,\n",
    ")\n",
    "\n",
    "convertTo = widgets.Dropdown(\n",
    "    options=['cups of cow milk', 'cups of soy milk', 'cups of oat milk', 'toilet flushes', 'loads of laundry', 'ounces of beef', 'miles traveled in car','tons of coal'], # list of your activities as strings\n",
    "    value='loads of laundry', # one of your activities to be the default option\n",
    "    description='compared to',\n",
    "    disabled=False,\n",
    ")\n",
    "\n",
    "button = widgets.Button(\n",
    "    description='Calculate',\n",
    "    disabled=False,\n",
    "    button_style='danger', # 'success', 'info', 'warning', 'danger' or ''\n",
    "    tooltip='',\n",
    "    icon=\"\" # (FontAwesome names without the `fa-` prefix)\n",
    ")\n",
    "\n",
    "def call_convert(_):\n",
    "    convert(category.value, value.value, convertFrom.value, convertTo.value)\n",
    "    \n",
    "button.on_click(call_convert)"
   ]
  },
  {
   "cell_type": "markdown",
   "metadata": {},
   "source": [
    "# Impact Calculator\n",
    "---\n",
    "### *Welcome to the Impact Calculator that allows you to evaluate your water usage and CO2 emissions based on different activities! *\n",
    "\n",
    "## How to Use the Calculator:\n",
    "1. From the first dropdown choose whether the category you would like to calculate: water usage or CO2 emissions.\n",
    "1. Next input the value you would like to connect to your first activity. Please only use numbers, int and floats are allowed. \n",
    "1. Use the dropdown next to this input field to choose the activity the value corresponds to.\n",
    "1. Choose the activity you would like to compare the first to.\n",
    "> *The lists below show which activities belong to which category. Ensure that the activities you choose are in the same category.*\n",
    "1. Hit the calculate button and let the calculator do the rest!\n",
    "1. Repeat this cycle as many times as you would like comparing different activities.\n",
    "\n",
    "### *Water Usage*: \n",
    "---\n",
    "Water usage has five different activities:\n",
    "- Cups of Cow Milk\n",
    "- Cups of Soy Milk\n",
    "- Cups of Oat Milk\n",
    "- Toilet Flushes\n",
    "- Loads of Laundry\n",
    "\n",
    "All of these activities use a base unit of gallons to calculate between activities.\n",
    "\n",
    "### *CO2 Emissions*:\n",
    "---\n",
    "CO2 Emissions has three different activities:\n",
    "- Ounces of Beef\n",
    "- Miles Traveled in Car\n",
    "- Tons of Coal\n",
    "\n",
    "All of these activities use a base unit of pounds to calculate between activities.\n",
    "\n",
    "\n",
    "\n",
    "\n"
   ]
  },
  {
   "cell_type": "markdown",
   "metadata": {},
   "source": [
    "## Water Usage and CO2 Emissions"
   ]
  },
  {
   "cell_type": "code",
   "execution_count": 9,
   "metadata": {},
   "outputs": [
    {
     "data": {
      "application/vnd.jupyter.widget-view+json": {
       "model_id": "4a56e4e01a32448e8b6d670f28381e0c",
       "version_major": 2,
       "version_minor": 0
      },
      "text/plain": [
       "HBox(children=(Dropdown(options=('water usage', 'CO2 emissions'), value='water usage'), VBox(children=(FloatTe…"
      ]
     },
     "metadata": {},
     "output_type": "display_data"
    },
    {
     "name": "stdout",
     "output_type": "stream",
     "text": [
      "The water usage for 10.0 cups of cow milk is equivalent to 9.12 loads of laundry.\n",
      "The water usage for 10.0 cups of cow milk is equivalent to 108.35 toilet flushes.\n",
      "The water usage for 10.0 cups of cow milk is equivalent to 218.75 cups of oat milk.\n",
      "The water usage for 10.0 cups of cow milk is equivalent to 35.35 cups of soy milk.\n",
      "The water usage for 10.0 cups of soy milk is equivalent to 61.88 cups of oat milk.\n",
      "The water usage for 10.0 cups of soy milk is equivalent to 30.65 toilet flushes.\n",
      "The water usage for 10.0 cups of soy milk is equivalent to 2.58 loads of laundry.\n",
      "The water usage for 10.0 cups of oat milk is equivalent to 0.42 loads of laundry.\n",
      "The water usage for 10.0 cups of oat milk is equivalent to 4.95 toilet flushes.\n",
      "The water usage for 10.0 loads of laundry is equivalent to 38.75 cups of soy milk.\n",
      "The water usage for 10.0 loads of laundry is equivalent to 118.75 toilet flushes.\n",
      "The water usage for 10.0 toilet flushes is equivalent to 0.92 cups of cow milk.\n",
      "The water usage for 10.0 toilet flushes is equivalent to 0.84 loads of laundry.\n",
      "The CO2 emissions for 8.0 ounces of beef is equivalent to 32.89 miles traveled in car.\n",
      "The CO2 emissions for 8.0 ounces of beef is equivalent to 0.01 tons of coal.\n",
      "The CO2 emissions for 100.0 miles traveled in car is equivalent to 0.02 tons of coal.\n",
      "The CO2 emissions for 1.0 tons of coal is equivalent to 4604.35 miles traveled in car.\n",
      "The CO2 emissions for 1.0 tons of coal is equivalent to 1120.0 ounces of beef.\n",
      "The CO2 emissions for 100.0 miles traveled in car is equivalent to 24.32 ounces of beef.\n",
      "Try again! Those two activities are not in the same category!\n"
     ]
    }
   ],
   "source": [
    "# Display the input widgets we defined above (no need to edit)\n",
    "items = [category, value, convertFrom, convertTo]\n",
    "left_box = widgets.VBox([items[1], items[3]])\n",
    "right_box = widgets.VBox([items[2], button])\n",
    "widgets.HBox([category, left_box, right_box])"
   ]
  },
  {
   "cell_type": "code",
   "execution_count": 2,
   "metadata": {},
   "outputs": [],
   "source": [
    "# Any other code you need\n",
    "def literToGallonsToCups(liter):\n",
    "    \"\"\"This converts the inputed value from liters to gallons to cups.\"\"\"\n",
    "    gal = liter*0.264172\n",
    "    return gal/16"
   ]
  },
  {
   "cell_type": "code",
   "execution_count": 3,
   "metadata": {},
   "outputs": [],
   "source": [
    "def poundToOunces(value):\n",
    "    \"\"\"This converts the inputed value from pounds to ounces.\"\"\"\n",
    "    value = value/16\n",
    "    return value"
   ]
  },
  {
   "cell_type": "code",
   "execution_count": 4,
   "metadata": {},
   "outputs": [],
   "source": [
    "def gramsToPounds(grams):\n",
    "    \"\"\"This converts the inputed value from grams to pounds.\"\"\"\n",
    "    pound = grams * 0.00220462\n",
    "    return pound"
   ]
  },
  {
   "cell_type": "code",
   "execution_count": 5,
   "metadata": {},
   "outputs": [],
   "source": [
    "cowWater = literToGallonsToCups(1050) #gallons of water to produce one cup of cow milk\n",
    "soyWater = literToGallonsToCups(297) #gallons of water to produce one cup of soy milk\n",
    "oatWater = literToGallonsToCups(48) #gallons of water to produce one cup of oat milk\n",
    "toiletWater = 1.6 #gallons of water per flush\n",
    "washerWater = 19.0 #gallons of water for one load of laundry\n",
    "beefEmission = poundToOunces(59.6) #pounds of emissions to produce an ounce of beef\n",
    "carEmission = gramsToPounds(411) #pounds of CO2 per mile\n",
    "coalEmission = 4172.0 #pounds of emissions for a ton of coal\n",
    "\n",
    "stanUnitWater = {\"cups of cow milk\": cowWater, \"cups of soy milk\": soyWater, \"cups of oat milk\": oatWater, \n",
    "            \"toilet flushes\": toiletWater, \"loads of laundry\": washerWater}\n",
    "stanUnitCO2 = {\"ounces of beef\": beefEmission, \n",
    "            \"miles traveled in car\": carEmission, \"tons of coal\": coalEmission}"
   ]
  },
  {
   "cell_type": "code",
   "execution_count": 6,
   "metadata": {},
   "outputs": [],
   "source": [
    "# Conversion data\n",
    "def whatActivity(act, stanUnit):\n",
    "    \"\"\" \n",
    "    Takes an input act and determines the resulting conversion value.\n",
    "    \n",
    "    act: input string \n",
    "    conversion: return value that stores conversion value based on input\n",
    "    \"\"\"\n",
    "    conversion = 0.0\n",
    "    \n",
    "    for key in stanUnit:\n",
    "        if key == act:\n",
    "            conversion = stanUnit[key]\n",
    "    return conversion"
   ]
  },
  {
   "cell_type": "code",
   "execution_count": 7,
   "metadata": {},
   "outputs": [],
   "source": [
    "# Conversion function\n",
    "def convert(category, val, start, end):\n",
    "    \"\"\"\n",
    "    Converts a given amount of start activity into an amount of end activity.\n",
    "    \n",
    "    val: input float of amount of first activity\n",
    "    start: input string for first activity\n",
    "    end: input string for second activity\n",
    "    endValue: resulting value in end activity measurement\n",
    "    firstConvert: conversion value based on first activity\n",
    "    secondConvert: conversion value based on end activity\n",
    "    \"\"\"\n",
    "    if category == \"water usage\":\n",
    "        stanUnit = stanUnitWater\n",
    "    elif category == \"CO2 emissions\":\n",
    "        stanUnit = stanUnitCO2\n",
    "    \n",
    "    endValue=0.0\n",
    "    firstConvert = whatActivity(start, stanUnit)\n",
    "    secondConvert = whatActivity(end, stanUnit)\n",
    "    if secondConvert==0.0:\n",
    "        print(\"Try again! Those two activities are not in the same category!\")\n",
    "    else:\n",
    "        endValue = val * firstConvert / secondConvert\n",
    "        print(\"The \"+category+\" for \"+str(val)+\" \"+start+\" is equivalent to \"+str(round(endValue, 2))+\" \"+end+\".\")"
   ]
  },
  {
   "cell_type": "markdown",
   "metadata": {},
   "source": [
    "Sources:\n",
    "\n",
    "1. [What Milk Should You Buy To Reduce Your Environmental Impact?](https://medium.com/@tabitha.whiting/what-milk-should-you-buy-to-reduce-your-environmental-impact-e0489153e3b8#:~:text=Water%20use%3A%20a%20litre%20of,litres%20of%20water%20to%20produce.), _Medium_\n",
    "1. [How Much Water Does a Washing Machine Use?](https://prudentreviews.com/how-much-water-does-a-washing-machine-use/), _Prudent Reviews_\n",
    "\n",
    "1. [Beef Impact on Environment](https://www.ewg.org/meateatersguide/a-meat-eaters-guide-to-climate-change-health-what-you-eat-matters/climate-and-environmental-impacts/), _Meat Eaters Guide_\n",
    "1. [How much CO2 and pollution comes from burning coal?](https://www.freeingenergy.com/how-much-co2-and-other-pollutants-come-from-burning-coal/#:~:text=Coal's%20most%20notorious%20byproduct%20is,CO2%20when%20it%20is%20burned.), _The Freeing Energy Project_\n",
    "1. [The Power of One Tree - The Very Air We Breathe](https://www.usda.gov/media/blog/2015/03/17/power-one-tree-very-air-we-breathe#:~:text=According%20to%20the%20Arbor%20Day,and%20release%20oxygen%20in%20exchange.), _USDA_\n",
    "1. [Greenhouse Gas Emissions from a Typical Passenger Vehicle](https://nepis.epa.gov/Exe/ZyNET.exe/P100JPPH.txt?ZyActionD=ZyDocument&Client=EPA&Index=2011%20Thru%202015&Docs=&Query=&Time=&EndTime=&SearchMethod=1&TocRestrict=n&Toc=&TocEntry=&QField=&QFieldYear=&QFieldMonth=&QFieldDay=&UseQField=&IntQFieldOp=0&ExtQFieldOp=0&XmlQuery=&File=D%3A%5CZYFILES%5CINDEX%20DATA%5C11THRU15%5CTXT%5C00000011%5CP100JPPH.txt&User=ANONYMOUS&Password=anonymous&SortMethod=h%7C-&MaximumDocuments=1&FuzzyDegree=0&ImageQuality=r75g8/r75g8/x150y150g16/i425&Display=hpfr&DefSeekPage=x&SearchBack=ZyActionL&Back=ZyActionS&BackDesc=Results%20page&MaximumPages=1&ZyEntry=1), _National Service Center for Environmental Publications_\n",
    "1. [How Much Water Does Your Toilet Use?](http://www.cityofsantacruz.com/home/showdocument?id=3890#:~:text=Generally%20speaking%2C%20the%20older%20the,only%201.6%20gallons%20of%20water.), _City of Santa Cruz_"
   ]
  },
  {
   "cell_type": "code",
   "execution_count": null,
   "metadata": {},
   "outputs": [],
   "source": []
  }
 ],
 "metadata": {
  "kernelspec": {
   "display_name": "Python 3",
   "language": "python",
   "name": "python3"
  },
  "language_info": {
   "codemirror_mode": {
    "name": "ipython",
    "version": 3
   },
   "file_extension": ".py",
   "mimetype": "text/x-python",
   "name": "python",
   "nbconvert_exporter": "python",
   "pygments_lexer": "ipython3",
   "version": "3.6.8"
  }
 },
 "nbformat": 4,
 "nbformat_minor": 2
}
